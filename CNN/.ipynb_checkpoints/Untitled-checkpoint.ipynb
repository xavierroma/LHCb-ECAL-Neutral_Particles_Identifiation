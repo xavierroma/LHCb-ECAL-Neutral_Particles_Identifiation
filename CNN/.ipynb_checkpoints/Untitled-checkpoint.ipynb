{
 "cells": [
  {
   "cell_type": "code",
   "execution_count": null,
   "metadata": {},
   "outputs": [],
   "source": [
    "import keras\n",
    "\n",
    "#PProva 1\n",
    "def build_classifier(optimizer):\n",
    "    model = Sequential()\n",
    "\n",
    "    model.add(Conv2D(16, kernel_size=1, padding=\"same\", kernel_initializer = 'glorot_uniform', input_shape=(3,3,1)))\n",
    "    model.add(BatchNormalization())\n",
    "    model.add(Activation(\"relu\"))\n",
    "    model.add(Flatten())\n",
    "    model.add(Dense(224))\n",
    "    model.add(BatchNormalization())\n",
    "    model.add(Activation(\"relu\"))\n",
    "    model.add(Dense(112))\n",
    "    model.add(BatchNormalization())\n",
    "    model.add(Activation(\"relu\"))\n",
    "    model.add(Dense(1, activation='sigmoid'))\n",
    "    model.compile(loss=binary_crossentropy,\n",
    "                  optimizer=optimizer,\n",
    "                  \n",
    "                  metrics=['accuracy'])\n",
    "    return model\n",
    "    "
   ]
  },
  {
   "cell_type": "code",
   "execution_count": null,
   "metadata": {},
   "outputs": [],
   "source": [
    "import keras\n",
    "\n",
    "#PProva 2\n",
    "def build_classifier(optimizer):\n",
    "    model = Sequential()\n",
    "\n",
    "    model.add(Conv2D(16, kernel_size=1, padding=\"same\", kernel_initializer = 'glorot_uniform', input_shape=(3,3,1)))\n",
    "    model.add(BatchNormalization())\n",
    "    model.add(Activation(\"sigmoid\"))\n",
    "    model.add(Flatten())\n",
    "    model.add(Dense(224))\n",
    "    model.add(BatchNormalization())\n",
    "    model.add(Activation(\"sigmoid\"))\n",
    "    model.add(Dense(112))\n",
    "    model.add(BatchNormalization())\n",
    "    model.add(Activation(\"sigmoid\"))\n",
    "    model.add(Dense(1, activation='sigmoid'))\n",
    "    model.compile(loss=binary_crossentropy,\n",
    "                  optimizer=optimizer,\n",
    "                  \n",
    "                  metrics=['accuracy'])\n",
    "    return model\n",
    "    "
   ]
  },
  {
   "cell_type": "code",
   "execution_count": null,
   "metadata": {},
   "outputs": [],
   "source": [
    "#Provar kernel size 2x2\n",
    "#Provar 3x3 amb padding\n",
    "#"
   ]
  }
 ],
 "metadata": {
  "kernelspec": {
   "display_name": "Python 3",
   "language": "python",
   "name": "python3"
  },
  "language_info": {
   "codemirror_mode": {
    "name": "ipython",
    "version": 3
   },
   "file_extension": ".py",
   "mimetype": "text/x-python",
   "name": "python",
   "nbconvert_exporter": "python",
   "pygments_lexer": "ipython3",
   "version": "3.7.0"
  }
 },
 "nbformat": 4,
 "nbformat_minor": 2
}
